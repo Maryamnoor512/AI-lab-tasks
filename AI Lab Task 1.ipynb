{
 "cells": [
  {
   "cell_type": "markdown",
   "id": "3ebe5c68",
   "metadata": {},
   "source": [
    "## Maryam noor 137\n"
   ]
  },
  {
   "cell_type": "code",
   "execution_count": null,
   "id": "72decdb0",
   "metadata": {},
   "outputs": [
    {
     "name": "stdout",
     "output_type": "stream",
     "text": [
      "Result: 3.0\n"
     ]
    }
   ],
   "source": [
    "import re\n",
    "\n",
    "def dynamic_calculator(expression):\n",
    "    # Replace common math symbols with Python operators\n",
    "    expression = expression.replace(\"×\", \"*\").replace(\"x\", \"*\").replace(\"÷\", \"/\")\n",
    "    \n",
    "    # Handle implicit multiplication: e.g., 2(3+4) -> 2*(3+4), (2+3)4 -> (2+3)*4\n",
    "    expression = re.sub(r'(\\d)\\(', r'\\1*(', expression)   # number before (\n",
    "    expression = re.sub(r'\\)(\\d)', r')*\\1', expression)   # ) before number\n",
    "    expression = expression.replace(\")(\", \")*(\")          # )( to )*(\n",
    "    \n",
    "    try:\n",
    "        result = eval(expression)\n",
    "        return result\n",
    "    except Exception as e:\n",
    "        return f\"Error: {e}\"\n",
    "\n",
    "# Example usage\n",
    "expr = input(\"Enter any math expression: \")\n",
    "print(\"Result:\", dynamic_calculator(expr))"
   ]
  }
 ],
 "metadata": {
  "kernelspec": {
   "display_name": "base",
   "language": "python",
   "name": "python3"
  },
  "language_info": {
   "codemirror_mode": {
    "name": "ipython",
    "version": 3
   },
   "file_extension": ".py",
   "mimetype": "text/x-python",
   "name": "python",
   "nbconvert_exporter": "python",
   "pygments_lexer": "ipython3",
   "version": "3.12.4"
  }
 },
 "nbformat": 4,
 "nbformat_minor": 5
}
