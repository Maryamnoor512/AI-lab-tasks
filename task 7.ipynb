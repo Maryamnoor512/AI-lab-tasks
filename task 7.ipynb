{
 "cells": [
  {
   "cell_type": "markdown",
   "id": "8da5229b",
   "metadata": {},
   "source": [
    "### Name : Hadeeba Jamil \n",
    "### Class : BSAI-3C\n",
    "### Roll No : 208"
   ]
  },
  {
   "cell_type": "code",
   "execution_count": null,
   "id": "fdd95624",
   "metadata": {},
   "outputs": [
    {
     "name": "stdout",
     "output_type": "stream",
     "text": [
      "Shortest Path using A*: [(0, 0), (0, 1), (0, 2), (1, 2), (2, 2), (2, 3), (3, 3)]\n"
     ]
    }
   ],
   "source": [
    "import heapq\n",
    "def heuristic(a, b):\n",
    "    return abs(a[0] - b[0]) + abs(a[1] - b[1])\n",
    "\n",
    "def a_star_search(start, goal, grid):\n",
    "    rows, cols = len(grid), len(grid[0])\n",
    "    open_list = []\n",
    "    heapq.heappush(open_list, (0, start))\n",
    "    \n",
    "    came_from = {}        \n",
    "    g_score = {start: 0}  \n",
    "    \n",
    "    while open_list:\n",
    "        _, current = heapq.heappop(open_list)\n",
    "        \n",
    "        if current == goal:\n",
    "            path = []\n",
    "            while current in came_from:\n",
    "                path.append(current)\n",
    "                current = came_from[current]\n",
    "            path.append(start)\n",
    "            return path[::-1]\n",
    "        \n",
    "        for dx, dy in [(0,1),(1,0),(0,-1),(-1,0)]:\n",
    "            neighbor = (current[0] + dx, current[1] + dy)\n",
    "            \n",
    "            if 0 <= neighbor[0] < rows and 0 <= neighbor[1] < cols and grid[neighbor[0]][neighbor[1]] == 0:\n",
    "                tentative_g = g_score[current] + 1\n",
    "                \n",
    "                if neighbor not in g_score or tentative_g < g_score[neighbor]:\n",
    "                    came_from[neighbor] = current\n",
    "                    g_score[neighbor] = tentative_g\n",
    "                    f_score = tentative_g + heuristic(neighbor, goal)\n",
    "                    heapq.heappush(open_list, (f_score, neighbor))\n",
    "    \n",
    "    return None  \n",
    "\n",
    "grid = [\n",
    "    [0, 0, 0, 0],\n",
    "    [1, 1, 0, 1],\n",
    "    [0, 0, 0, 0],\n",
    "    [0, 1, 1, 0]\n",
    "]\n",
    "start = (0, 0)\n",
    "goal = (3, 3)\n",
    "path = a_star_search(start, goal, grid)\n",
    "print(\"Shortest Path using A*:\", path)\n"
   ]
  }
 ],
 "metadata": {
  "kernelspec": {
   "display_name": "base",
   "language": "python",
   "name": "python3"
  },
  "language_info": {
   "codemirror_mode": {
    "name": "ipython",
    "version": 3
   },
   "file_extension": ".py",
   "mimetype": "text/x-python",
   "name": "python",
   "nbconvert_exporter": "python",
   "pygments_lexer": "ipython3",
   "version": "3.12.4"
  }
 },
 "nbformat": 4,
 "nbformat_minor": 5
}
