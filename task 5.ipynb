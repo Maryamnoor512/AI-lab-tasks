{
 "cells": [
  {
   "cell_type": "markdown",
   "id": "16d266e9",
   "metadata": {},
   "source": [
    "### Name : Hadeeba Jamil \n",
    "### Class : BSAI-3C\n",
    "### Roll No : 208"
   ]
  },
  {
   "cell_type": "code",
   "execution_count": null,
   "id": "87c799e8",
   "metadata": {},
   "outputs": [
    {
     "name": "stdout",
     "output_type": "stream",
     "text": [
      "DFS Traversal using Stack:\n",
      "A B D E C F "
     ]
    }
   ],
   "source": [
    "class Graph:\n",
    "    def __init__(self):\n",
    "        self.graph = {}\n",
    "\n",
    "    def add_edge(self, u, v):\n",
    "        # Add edge u -> v\n",
    "        if u not in self.graph:\n",
    "            self.graph[u] = []\n",
    "        self.graph[u].append(v)\n",
    "\n",
    "    def dfs_stack(self, start):\n",
    "        visited = set()\n",
    "        stack = [start]\n",
    "\n",
    "        print(\"DFS Traversal using Stack:\")\n",
    "\n",
    "        while stack:\n",
    "            node = stack.pop() \n",
    "            if node not in visited:\n",
    "                print(node, end=\" \")\n",
    "                visited.add(node)\n",
    "                for neighbour in reversed(self.graph.get(node, [])):\n",
    "                    if neighbour not in visited:\n",
    "                        stack.append(neighbour)\n",
    "\n",
    "g = Graph()\n",
    "g.add_edge('A', 'B')\n",
    "g.add_edge('A', 'C')\n",
    "g.add_edge('B', 'D')\n",
    "g.add_edge('B', 'E')\n",
    "g.add_edge('C', 'F')\n",
    "g.dfs_stack('A')\n"
   ]
  },
  {
   "cell_type": "code",
   "execution_count": null,
   "id": "71c4072d",
   "metadata": {},
   "outputs": [
    {
     "name": "stdout",
     "output_type": "stream",
     "text": [
      "Preorder Traversal:\n",
      "A B D E C F \n",
      "Inorder Traversal:\n",
      "D B E A F C \n",
      "Postorder Traversal:\n",
      "D E B F C A "
     ]
    }
   ],
   "source": [
    "class Node:\n",
    "    def __init__(self, value):\n",
    "        self.value = value\n",
    "        self.left = None\n",
    "        self.right = None\n",
    "\n",
    "\n",
    "class BinaryTree:\n",
    "    def __init__(self, root):\n",
    "        self.root = Node(root)\n",
    "\n",
    "    def preorder(self, node):\n",
    "        if node:\n",
    "            print(node.value, end=\" \")\n",
    "            self.preorder(node.left)\n",
    "            self.preorder(node.right)\n",
    "\n",
    "    def inorder(self, node):\n",
    "        if node:\n",
    "            self.inorder(node.left)\n",
    "            print(node.value, end=\" \")\n",
    "            self.inorder(node.right)\n",
    "\n",
    "    def postorder(self, node):\n",
    "        if node:\n",
    "            self.postorder(node.left)\n",
    "            self.postorder(node.right)\n",
    "            print(node.value, end=\" \")\n",
    "\n",
    "tree = BinaryTree('A')\n",
    "tree.root.left = Node('B')\n",
    "tree.root.right = Node('C')\n",
    "tree.root.left.left = Node('D')\n",
    "tree.root.left.right = Node('E')\n",
    "tree.root.right.left = Node('F')\n",
    "\n",
    "print(\"Preorder Traversal:\")\n",
    "tree.preorder(tree.root)\n",
    "\n",
    "print(\"\\nInorder Traversal:\")\n",
    "tree.inorder(tree.root)\n",
    "\n",
    "print(\"\\nPostorder Traversal:\")\n",
    "tree.postorder(tree.root)\n"
   ]
  }
 ],
 "metadata": {
  "kernelspec": {
   "display_name": "base",
   "language": "python",
   "name": "python3"
  },
  "language_info": {
   "codemirror_mode": {
    "name": "ipython",
    "version": 3
   },
   "file_extension": ".py",
   "mimetype": "text/x-python",
   "name": "python",
   "nbconvert_exporter": "python",
   "pygments_lexer": "ipython3",
   "version": "3.12.4"
  }
 },
 "nbformat": 4,
 "nbformat_minor": 5
}
