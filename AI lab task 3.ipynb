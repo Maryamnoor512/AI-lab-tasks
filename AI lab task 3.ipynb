{
 "cells": [
  {
   "cell_type": "code",
   "execution_count": 6,
   "id": "1657365d",
   "metadata": {},
   "outputs": [
    {
     "name": "stdout",
     "output_type": "stream",
     "text": [
      "Temp: 28°C → Keep Heater OFF\n",
      "Temp: 21°C → Keep Heater OFF\n",
      "Temp: 22°C → Keep Heater OFF\n",
      "Temp: 24°C → Keep Heater OFF\n",
      "Temp: 22°C → Keep Heater OFF\n",
      "Temp: 21°C → Keep Heater OFF\n",
      "Temp: 20°C → Heater ON\n",
      "Temp: 19°C → Keep Heater ON\n"
     ]
    }
   ],
   "source": [
    "class SimpleHeaterAgent:\n",
    "    def __init__(self, setpoint):\n",
    "        self.setpoint = setpoint\n",
    "        self.last_action = \"OFF\"\n",
    "\n",
    "    def control_heater(self, temp):\n",
    "        # Only turn ON if too cold, OFF if too hot, else keep last action\n",
    "        if temp < self.setpoint - 1:\n",
    "            if self.last_action != \"ON\":\n",
    "                self.last_action = \"ON\"\n",
    "                return \"Heater ON\"\n",
    "            return \"Keep Heater ON\"\n",
    "        elif temp > self.setpoint + 1:\n",
    "            if self.last_action != \"OFF\":\n",
    "                self.last_action = \"OFF\"\n",
    "                return \"Heater OFF\"\n",
    "            return \"Keep Heater OFF\"\n",
    "        else:\n",
    "            return f\"Keep Heater {self.last_action}\"\n",
    "\n",
    "# Example usage\n",
    "agent = SimpleHeaterAgent(setpoint=22)\n",
    "temps = [28, 21, 22, 24, 22, 21, 20, 19]\n",
    "for t in temps:\n",
    "    print(f\"Temp: {t}°C → {agent.control_heater(t)}\")"
   ]
  }
 ],
 "metadata": {
  "kernelspec": {
   "display_name": "base",
   "language": "python",
   "name": "python3"
  },
  "language_info": {
   "codemirror_mode": {
    "name": "ipython",
    "version": 3
   },
   "file_extension": ".py",
   "mimetype": "text/x-python",
   "name": "python",
   "nbconvert_exporter": "python",
   "pygments_lexer": "ipython3",
   "version": "3.12.4"
  }
 },
 "nbformat": 4,
 "nbformat_minor": 5
}
