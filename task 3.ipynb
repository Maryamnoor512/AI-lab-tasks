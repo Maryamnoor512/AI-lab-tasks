{
 "cells": [
  {
   "cell_type": "markdown",
   "id": "ce13cac9",
   "metadata": {},
   "source": [
    "### Name : Hadeeba Jamil \n",
    "### Class : BSAI-3C\n",
    "### Roll No : 208"
   ]
  },
  {
   "cell_type": "code",
   "execution_count": 1,
   "id": "11fcef8f",
   "metadata": {},
   "outputs": [
    {
     "name": "stdout",
     "output_type": "stream",
     "text": [
      "Temp: 28°C → Keep Heater OFF\n",
      "Temp: 21°C → Keep Heater OFF\n",
      "Temp: 22°C → Keep Heater OFF\n",
      "Temp: 24°C → Keep Heater OFF\n",
      "Temp: 22°C → Keep Heater OFF\n",
      "Temp: 21°C → Keep Heater OFF\n",
      "Temp: 20°C → Heater ON\n",
      "Temp: 19°C → Keep Heater ON\n",
      "\n",
      "Detailed History:\n",
      "Step 1: Temp=28°C | Setpoint=22°C | Prev=OFF → Action=Keep Heater OFF\n",
      "Step 2: Temp=21°C | Setpoint=22°C | Prev=OFF → Action=Keep Heater OFF\n",
      "Step 3: Temp=22°C | Setpoint=22°C | Prev=OFF → Action=Keep Heater OFF\n",
      "Step 4: Temp=24°C | Setpoint=22°C | Prev=OFF → Action=Keep Heater OFF\n",
      "Step 5: Temp=22°C | Setpoint=22°C | Prev=OFF → Action=Keep Heater OFF\n",
      "Step 6: Temp=21°C | Setpoint=22°C | Prev=OFF → Action=Keep Heater OFF\n",
      "Step 7: Temp=20°C | Setpoint=22°C | Prev=OFF → Action=Heater ON\n",
      "Step 8: Temp=19°C | Setpoint=22°C | Prev=ON → Action=Keep Heater ON\n"
     ]
    }
   ],
   "source": [
    "class SimpleHeaterAgent:\n",
    "    def __init__(self, setpoint):\n",
    "        self.setpoint = setpoint\n",
    "        self.last_action = \"OFF\"\n",
    "        self.history = []     \n",
    "        self.step_count = 0 \n",
    "\n",
    "    def control_heater(self, temp):\n",
    "        self.step_count += 1\n",
    "        prev_action = self.last_action \n",
    "        if temp < self.setpoint - 1:\n",
    "            if self.last_action != \"ON\":\n",
    "                self.last_action = \"ON\"\n",
    "                action = \"Heater ON\"\n",
    "            else:\n",
    "                action = \"Keep Heater ON\"\n",
    "        elif temp > self.setpoint + 1:\n",
    "            if self.last_action != \"OFF\":\n",
    "                self.last_action = \"OFF\"\n",
    "                action = \"Heater OFF\"\n",
    "            else:\n",
    "                action = \"Keep Heater OFF\"\n",
    "        else:\n",
    "            action = f\"Keep Heater {self.last_action}\"\n",
    "        self.history.append({\n",
    "            \"step\": self.step_count,\n",
    "            \"temperature\": temp,\n",
    "            \"setpoint\": self.setpoint,\n",
    "            \"previous_action\": prev_action,\n",
    "            \"action\": action\n",
    "        })\n",
    "        return action\n",
    "    def show_history(self):\n",
    "        \"\"\"Prints the history of temperatures and actions.\"\"\"\n",
    "        print(\"\\nDetailed History:\")\n",
    "        for record in self.history:\n",
    "            print(f\"Step {record['step']}: Temp={record['temperature']}°C | \"\n",
    "                  f\"Setpoint={record['setpoint']}°C | \"\n",
    "                  f\"Prev={record['previous_action']} → Action={record['action']}\")\n",
    "agent = SimpleHeaterAgent(setpoint=22)\n",
    "temps = [28, 21, 22, 24, 22, 21, 20, 19]\n",
    "for t in temps:\n",
    "    print(f\"Temp: {t}°C → {agent.control_heater(t)}\")\n",
    "agent.show_history()\n"
   ]
  }
 ],
 "metadata": {
  "kernelspec": {
   "display_name": "base",
   "language": "python",
   "name": "python3"
  },
  "language_info": {
   "codemirror_mode": {
    "name": "ipython",
    "version": 3
   },
   "file_extension": ".py",
   "mimetype": "text/x-python",
   "name": "python",
   "nbconvert_exporter": "python",
   "pygments_lexer": "ipython3",
   "version": "3.12.4"
  }
 },
 "nbformat": 4,
 "nbformat_minor": 5
}
