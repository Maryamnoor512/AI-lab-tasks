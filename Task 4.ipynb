{
 "cells": [
  {
   "cell_type": "markdown",
   "id": "65f51a4f",
   "metadata": {},
   "source": [
    "### Name : Hadeeba Jamil \n",
    "### Class : BSAI-3C\n",
    "### Roll No : 208"
   ]
  },
  {
   "cell_type": "code",
   "execution_count": 1,
   "id": "a8b72176",
   "metadata": {},
   "outputs": [
    {
     "name": "stdout",
     "output_type": "stream",
     "text": [
      "Invalid card number.\n"
     ]
    }
   ],
   "source": [
    "class LuhnValidator:\n",
    "    def __init__(self, card_number):\n",
    "        self.card_number = str(card_number)\n",
    "\n",
    "    def is_valid(self):\n",
    "        digits = [int(d) for d in self.card_number if d.isdigit()]\n",
    "        checksum = 0\n",
    "        parity = len(digits) % 2\n",
    "        for i, digit in enumerate(digits):\n",
    "            if i % 2 == parity:\n",
    "                digit *= 2\n",
    "                if digit > 9:\n",
    "                    digit -= 9\n",
    "            checksum += digit\n",
    "        return checksum % 10 == 0\n",
    "    \n",
    "card = input(\"Enter card number: \")\n",
    "validator = LuhnValidator(card)\n",
    "if validator.is_valid():\n",
    "    print(\"Valid card number.\")\n",
    "else:\n",
    "    print(\"Invalid card number.\")"
   ]
  },
  {
   "cell_type": "code",
   "execution_count": 2,
   "id": "16a83b56",
   "metadata": {},
   "outputs": [
    {
     "name": "stdout",
     "output_type": "stream",
     "text": [
      "\n",
      "Sorted by words (ASCII): hadeeba\n",
      "Sorted by characters (ASCII): aabdeeh\n",
      "Sorted by characters without spaces (ASCII): aabdeeh\n"
     ]
    }
   ],
   "source": [
    "def bubble_sort(lst):\n",
    "    n = len(lst)\n",
    "    for i in range(n):\n",
    "        for j in range(0, n - i - 1):\n",
    "            if lst[j] > lst[j + 1]:  \n",
    "                lst[j], lst[j + 1] = lst[j + 1], lst[j]\n",
    "    return lst\n",
    "text = input(\"Enter a string: \")\n",
    "words = text.split()\n",
    "bubble_sorted_words = bubble_sort(words.copy())\n",
    "print(\"\\nSorted by words (ASCII):\", \" \".join(bubble_sorted_words))\n",
    "chars = list(text)  \n",
    "bubble_sorted_chars = bubble_sort(chars.copy())\n",
    "print(\"Sorted by characters (ASCII):\", \"\".join(bubble_sorted_chars))\n",
    "chars_no_space = list(text.replace(\" \", \"\"))\n",
    "bubble_sorted_chars_no_space = bubble_sort(chars_no_space.copy())\n",
    "print(\"Sorted by characters without spaces (ASCII):\", \"\".join(bubble_sorted_chars_no_space))\n"
   ]
  },
  {
   "cell_type": "code",
   "execution_count": 3,
   "id": "a2516fef",
   "metadata": {},
   "outputs": [
    {
     "name": "stdout",
     "output_type": "stream",
     "text": [
      "\n",
      "Cleaned text: hDEeba90\n"
     ]
    }
   ],
   "source": [
    "class Cleaner:\n",
    "    def __init__(self, text):\n",
    "        self.text = text\n",
    "        self.punctuations = '''!()-[]{};:'\"\\\\,<>./?@#$%^&*_~'''\n",
    "\n",
    "    def remove_punctuation(self):\n",
    "        clean_text = \"\"\n",
    "        for char in self.text:\n",
    "            if char not in self.punctuations:  \n",
    "                clean_text += char\n",
    "        return clean_text\n",
    "\n",
    "user_text = input(\"Enter your text: \")\n",
    "cleaner = Cleaner(user_text)\n",
    "result = cleaner.remove_punctuation()\n",
    "print(\"\\nCleaned text:\", result)\n"
   ]
  }
 ],
 "metadata": {
  "kernelspec": {
   "display_name": "base",
   "language": "python",
   "name": "python3"
  },
  "language_info": {
   "codemirror_mode": {
    "name": "ipython",
    "version": 3
   },
   "file_extension": ".py",
   "mimetype": "text/x-python",
   "name": "python",
   "nbconvert_exporter": "python",
   "pygments_lexer": "ipython3",
   "version": "3.12.4"
  }
 },
 "nbformat": 4,
 "nbformat_minor": 5
}
