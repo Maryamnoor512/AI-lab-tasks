{
 "cells": [
  {
   "cell_type": "markdown",
   "id": "dc0d6363",
   "metadata": {},
   "source": [
    "maryam noor \n",
    "roll no 137"
   ]
  },
  {
   "cell_type": "code",
   "execution_count": 1,
   "id": "492bd3a7",
   "metadata": {},
   "outputs": [
    {
     "name": "stdout",
     "output_type": "stream",
     "text": [
      "[30, 20, 48, 48, 96]\n"
     ]
    }
   ],
   "source": [
    "def modify_array(arr):\n",
    "    # Initialize the result array\n",
    "    result = []\n",
    "    \n",
    "    # Iterate over the array to modify the elements\n",
    "    for i in range(len(arr)):\n",
    "        if i == 0:  # First element, multiply with the next element\n",
    "            result.append(arr[i] * arr[i + 1])\n",
    "        elif i == len(arr) - 1:  # Last element, multiply with the previous element\n",
    "            result.append(arr[i] * arr[i - 1])\n",
    "        else:  # For other elements, multiply with both previous and next elements\n",
    "            result.append(arr[i - 1] * arr[i + 1])\n",
    "    \n",
    "    return result\n",
    "\n",
    "# Test the function with the given array\n",
    "array = [5, 6, 4, 8, 12]\n",
    "modified_array = modify_array(array)\n",
    "print(modified_array)\n"
   ]
  },
  {
   "cell_type": "code",
   "execution_count": 2,
   "id": "b4960d15",
   "metadata": {},
   "outputs": [
    {
     "name": "stdout",
     "output_type": "stream",
     "text": [
      "6\n"
     ]
    }
   ],
   "source": [
    "def find_distance(arr, a, b):\n",
    "    try:\n",
    "        index_a = arr.index(a)  # Find index of a\n",
    "        index_b = arr.index(b)  # Find index of b\n",
    "        distance = abs(index_b - index_a)  # Calculate the absolute difference\n",
    "        return distance\n",
    "    except ValueError:\n",
    "        return \"One or both elements not found in the array\"\n",
    "\n",
    "# Test the function with the given array and values a=2, b=10\n",
    "array = [2, 5, 3, 5, 4, 8, 10, 3]\n",
    "distance = find_distance(array, 2, 10)\n",
    "print(distance)\n"
   ]
  },
  {
   "cell_type": "code",
   "execution_count": 3,
   "id": "29de347c",
   "metadata": {},
   "outputs": [
    {
     "name": "stdout",
     "output_type": "stream",
     "text": [
      "Decimal: 10, Binary: 1010\n",
      "Decimal: 37, Binary: 100101\n",
      "Decimal: 48, Binary: 110000\n"
     ]
    }
   ],
   "source": [
    "class Stack:\n",
    "    def __init__(self):\n",
    "        self.stack = []\n",
    "    \n",
    "    def push(self, value):\n",
    "        self.stack.append(value)\n",
    "    \n",
    "    def pop(self):\n",
    "        if self.is_empty():\n",
    "            return None\n",
    "        return self.stack.pop()\n",
    "    \n",
    "    def is_empty(self):\n",
    "        return len(self.stack) == 0\n",
    "    \n",
    "    def peek(self):\n",
    "        if not self.is_empty():\n",
    "            return self.stack[-1]\n",
    "        return None\n",
    "\n",
    "def decimal_to_binary(number):\n",
    "    stack = Stack()\n",
    "    \n",
    "    # Edge case for zero\n",
    "    if number == 0:\n",
    "        return \"0\"\n",
    "    \n",
    "    # Convert decimal to binary\n",
    "    while number > 0:\n",
    "        remainder = number % 2\n",
    "        stack.push(remainder)\n",
    "        number = number // 2\n",
    "    \n",
    "    # Construct the binary number from the stack\n",
    "    binary = \"\"\n",
    "    while not stack.is_empty():\n",
    "        binary += str(stack.pop())\n",
    "    \n",
    "    return binary\n",
    "\n",
    "# Test the function with 10, 37, and 48\n",
    "numbers = [10, 37, 48]\n",
    "for num in numbers:\n",
    "    print(f\"Decimal: {num}, Binary: {decimal_to_binary(num)}\")\n"
   ]
  }
 ],
 "metadata": {
  "kernelspec": {
   "display_name": "base",
   "language": "python",
   "name": "python3"
  },
  "language_info": {
   "codemirror_mode": {
    "name": "ipython",
    "version": 3
   },
   "file_extension": ".py",
   "mimetype": "text/x-python",
   "name": "python",
   "nbconvert_exporter": "python",
   "pygments_lexer": "ipython3",
   "version": "3.12.4"
  }
 },
 "nbformat": 4,
 "nbformat_minor": 5
}
