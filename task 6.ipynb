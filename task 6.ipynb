{
 "cells": [
  {
   "cell_type": "markdown",
   "id": "e2c3a9dc",
   "metadata": {},
   "source": [
    "### Name : Hadeeba Jamil \n",
    "### Class : BSAI-3C\n",
    "### Roll No : 208"
   ]
  },
  {
   "cell_type": "code",
   "execution_count": null,
   "id": "746c45ff",
   "metadata": {},
   "outputs": [
    {
     "name": "stdout",
     "output_type": "stream",
     "text": [
      "BFS Traversal:\n",
      "A B C D E F "
     ]
    }
   ],
   "source": [
    "def bfs_without_queue(graph, start):\n",
    "    visited = []       \n",
    "    to_visit = [start]  \n",
    "\n",
    "    print(\"BFS Traversal:\")\n",
    "\n",
    "    while to_visit:\n",
    "        node = to_visit.pop(0)  \n",
    "        \n",
    "        if node not in visited:\n",
    "            print(node, end=\" \")\n",
    "            visited.append(node)\n",
    "\n",
    "            for neighbour in graph.get(node, []):\n",
    "                if neighbour not in visited:\n",
    "                    to_visit.append(neighbour)\n",
    "graph = {\n",
    "    'A': ['B', 'C'],\n",
    "    'B': ['D', 'E'],\n",
    "    'C': ['F'],\n",
    "    'D': [],\n",
    "    'E': [],\n",
    "    'F': []\n",
    "}\n",
    "bfs_without_queue(graph, 'A')\n"
   ]
  },
  {
   "cell_type": "code",
   "execution_count": null,
   "id": "10bfff69",
   "metadata": {},
   "outputs": [
    {
     "name": "stdout",
     "output_type": "stream",
     "text": [
      "BFS Traversal using Queue & Node:\n",
      "A B C D E F "
     ]
    }
   ],
   "source": [
    "from collections import deque\n",
    "\n",
    "class Node:\n",
    "    def __init__(self, value):\n",
    "        self.value = value\n",
    "        self.neighbors = []\n",
    "\n",
    "    def add_neighbor(self, node):\n",
    "        self.neighbors.append(node)\n",
    "\n",
    "\n",
    "def bfs_with_queue(start_node):\n",
    "    visited = set()          \n",
    "    queue = deque([start_node])  \n",
    "\n",
    "    print(\"BFS Traversal using Queue & Node:\")\n",
    "\n",
    "    while queue:\n",
    "        current = queue.popleft()  \n",
    "\n",
    "        if current not in visited:\n",
    "            print(current.value, end=\" \")\n",
    "            visited.add(current)\n",
    "\n",
    "            for neighbor in current.neighbors:\n",
    "                if neighbor not in visited:\n",
    "                    queue.append(neighbor)\n",
    "\n",
    "A = Node('A')\n",
    "B = Node('B')\n",
    "C = Node('C')\n",
    "D = Node('D')\n",
    "E = Node('E')\n",
    "F = Node('F')\n",
    "\n",
    "A.add_neighbor(B)\n",
    "A.add_neighbor(C)\n",
    "B.add_neighbor(D)\n",
    "B.add_neighbor(E)\n",
    "C.add_neighbor(F)\n",
    "bfs_with_queue(A)\n"
   ]
  }
 ],
 "metadata": {
  "kernelspec": {
   "display_name": "base",
   "language": "python",
   "name": "python3"
  },
  "language_info": {
   "codemirror_mode": {
    "name": "ipython",
    "version": 3
   },
   "file_extension": ".py",
   "mimetype": "text/x-python",
   "name": "python",
   "nbconvert_exporter": "python",
   "pygments_lexer": "ipython3",
   "version": "3.12.4"
  }
 },
 "nbformat": 4,
 "nbformat_minor": 5
}
